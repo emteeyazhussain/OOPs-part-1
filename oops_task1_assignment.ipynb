{
 "cells": [
  {
   "cell_type": "code",
   "execution_count": 6,
   "id": "208f0899-4553-4250-b091-ec34d9c2f951",
   "metadata": {},
   "outputs": [
    {
     "name": "stdout",
     "output_type": "stream",
     "text": [
      "The vehicle name is bmw and its maximum speed is 100 km/h and average is 10 km/l.\n"
     ]
    }
   ],
   "source": [
    "# Question1:\n",
    "class vehicle:\n",
    "   \n",
    "    def __init__(self,name_of_vehicle,max_speed,average_of_vehicle):\n",
    "       self.name_of_vehicle =name_of_vehicle\n",
    "       self.max_speed  = max_speed\n",
    "       self.average_of_vehicle =average_of_vehicle \n",
    "    \n",
    "      \n",
    "    def info(self):\n",
    "        print(f\"The vehicle name is {self.name_of_vehicle} and its maximum speed is {self.max_speed} km/h and average is {self.average_of_vehicle} km/l.\")\n",
    "       \n",
    "       \n",
    "get_info = vehicle(\"bmw\",100,10)\n",
    "get_info.info()"
   ]
  },
  {
   "cell_type": "code",
   "execution_count": 2,
   "id": "c9825a27-4eac-47ec-a6e1-d36c83811ef4",
   "metadata": {},
   "outputs": [
    {
     "name": "stdout",
     "output_type": "stream",
     "text": [
      "The vehicle name is BMW and its maximum speed is 200 km/h and average is 10 km/l.\n",
      "The car name is BMW and its seating capacity is 4 persons.\n"
     ]
    }
   ],
   "source": [
    "# Question 2:\n",
    "class Vehicle:\n",
    "    def __init__(self, name_of_vehicle, max_speed, average_of_vehicle):\n",
    "        self.name_of_vehicle = name_of_vehicle\n",
    "        self.max_speed = max_speed\n",
    "        self.average_of_vehicle = average_of_vehicle\n",
    "\n",
    "    def info(self):\n",
    "        print(f\"The vehicle name is {self.name_of_vehicle} and its maximum speed is {self.max_speed} km/h and average is {self.average_of_vehicle} km/l.\")\n",
    "class Car(Vehicle):\n",
    "    def seating_capacity(self, capacity):\n",
    "        return f\"The car name is {self.name_of_vehicle} and its seating capacity is {capacity} persons.\"\n",
    "my_car = Car(\"BMW\", 200, 10)\n",
    "my_car.info()\n",
    "print(my_car.seating_capacity(4))"
   ]
  },
  {
   "cell_type": "code",
   "execution_count": 12,
   "id": "a9a371e4-f716-4ab9-95a3-d8fcc69470d1",
   "metadata": {},
   "outputs": [
    {
     "name": "stdout",
     "output_type": "stream",
     "text": [
      "i am the first class\n",
      "i am the third class\n"
     ]
    }
   ],
   "source": [
    "#Question3:#Inheritance means quality of one class into another class:\n",
    "\n",
    "\n",
    "#MULTIPLE INHERITANCE\n",
    "\n",
    "class class1:\n",
    "   def test_class1(self):\n",
    "      return \"i am the first class\"\n",
    "class class2:\n",
    "  def test_class2(self):\n",
    "   return \"i am the second class\"\n",
    "   \n",
    "class class3:\n",
    " def test_class3(self):\n",
    "   return \"i am the third class\"\n",
    "\n",
    "class class4:\n",
    "  def test_class4(self):\n",
    "   return \"i am the forth class\"\n",
    "\n",
    "class acess_all_class(class1,class2,class3,class4):\n",
    "   pass\n",
    "   \n",
    "obj_acess_all_class = acess_all_class()\n",
    "obj_acess_all_class.test_class1()\n",
    "print(obj_acess_all_class.test_class1())\n",
    "obj_acess_all_class.test_class3()\n",
    "print(obj_acess_all_class.test_class3())\n",
    "\n",
    "   \n",
    "\n",
    "   \n",
    "   \n"
   ]
  },
  {
   "cell_type": "code",
   "execution_count": 10,
   "id": "62a6ef13-22f8-4e59-9ccf-32d30aa4f20b",
   "metadata": {},
   "outputs": [
    {
     "name": "stdout",
     "output_type": "stream",
     "text": [
      "Value is 10\n",
      "the getter is  7.5\n"
     ]
    }
   ],
   "source": [
    "# #Question:4\n",
    "# Getters in Python are methods that are used to access the values of an object's properties. \n",
    "# They are used to return the value of a specific property, and are typically defined using the \n",
    "# @property decorator. Here is an example of a simple class with a getter method:\n",
    "\n",
    "\n",
    "class MyClass:\n",
    "    \n",
    "    def __init__(self,value):\n",
    "        \n",
    "        self.value = value\n",
    "        \n",
    "    def show (self):\n",
    "        print(f\"Value is {self.value}\")\n",
    "        \n",
    "    @property\n",
    "    def five_value(self):\n",
    "        print(f\"the getter is  {self.value *5}\")\n",
    "    \n",
    "    # it is important to note that the getters do not take any parameters and we cannot set the value through \n",
    "    # getter method.For that we need setter method which\n",
    "    # can be added by decorating method with @property_name.setter\n",
    "    \n",
    "    @five_value.setter\n",
    "    def five_value(self,new_value):\n",
    "        self.value= new_value/2\n",
    "\n",
    "        \n",
    "obj = MyClass(10)\n",
    "obj.show()\n",
    "obj.five_value = 3\n",
    "obj.five_value\n",
    "\n",
    "        \n",
    "\n",
    "    \n",
    "\n",
    "\n",
    "\n"
   ]
  },
  {
   "cell_type": "code",
   "execution_count": 21,
   "id": "3da9cfe4-3c4d-41f7-95f7-540a11b6e0c5",
   "metadata": {},
   "outputs": [
    {
     "data": {
      "text/plain": [
       "78.5"
      ]
     },
     "execution_count": 21,
     "metadata": {},
     "output_type": "execute_result"
    }
   ],
   "source": [
    "\n",
    "#Question 5:\n",
    "# method overriding is a powerful feature in Python that allows you to customize the behavior of a class based on its \n",
    "# specific needs. By using method overriding, you can create more robust and reliable code\n",
    "\n",
    "class shape :\n",
    "    def __init__(self,x,y):\n",
    "        self.x = x \n",
    "        self.y = y\n",
    "        \n",
    "    def area(self):\n",
    "        print(f\" the multiplication of x and y is {self.x * self.y}\")\n",
    "        \n",
    "class circle(shape):\n",
    "    def __init__(self, radius):\n",
    "        \n",
    "       self.radius = radius\n",
    "    \n",
    "    def area(self):\n",
    "        return 3.14 *  self.radius * self.radius \n",
    "    \n",
    "    # print(f\" The radius of circle is {radius}\")\n",
    "    \n",
    "obj = circle(5)\n",
    "obj.area()\n",
    "    \n",
    "    \n",
    "    "
   ]
  },
  {
   "cell_type": "code",
   "execution_count": null,
   "id": "166bc63b-0980-4457-b968-1b5f4d95855d",
   "metadata": {},
   "outputs": [],
   "source": [
    "# Question 5:\n",
    "Another way to customize the behavior of a class is to call the base class method from the derived class method.\n",
    "To do this, you can use the super function. The super function allows you to call the base class method from the derived\n",
    "class method, and can be useful when you want to extend\n",
    "the behavior of the base class method, rather than replace it.\n"
   ]
  }
 ],
 "metadata": {
  "kernelspec": {
   "display_name": "Python 3 (ipykernel)",
   "language": "python",
   "name": "python3"
  },
  "language_info": {
   "codemirror_mode": {
    "name": "ipython",
    "version": 3
   },
   "file_extension": ".py",
   "mimetype": "text/x-python",
   "name": "python",
   "nbconvert_exporter": "python",
   "pygments_lexer": "ipython3",
   "version": "3.10.8"
  }
 },
 "nbformat": 4,
 "nbformat_minor": 5
}
